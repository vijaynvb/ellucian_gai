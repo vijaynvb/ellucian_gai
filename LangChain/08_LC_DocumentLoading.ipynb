{
  "cells": [
    {
      "cell_type": "markdown",
      "source": [
        "# **Document Loading**\n",
        "\n",
        "Document loading refers to the process of fetching and retrieving content from external sources such as websites or databases into an application or system. It is essential for accessing and utilizing data, text, or multimedia resources dynamically, enabling applications to display, process, or manipulate information sourced from various repositories. This capability is crucial for real-time updates, content integration, and efficient data handling in modern software and web development.\n",
        "\n"
      ],
      "metadata": {
        "id": "7jvIN05PLgtV"
      },
      "id": "7jvIN05PLgtV"
    },
    {
      "cell_type": "code",
      "source": [
        "%%capture\n",
        "# update or install the necessary libraries\n",
        "!pip install --upgrade langchain langchain_community langchain_aws pypdf"
      ],
      "metadata": {
        "id": "Fs_BT8h2LbXf"
      },
      "id": "Fs_BT8h2LbXf",
      "execution_count": 1,
      "outputs": []
    },
    {
      "cell_type": "code",
      "execution_count": 2,
      "id": "ffd55395",
      "metadata": {
        "id": "ffd55395"
      },
      "outputs": [],
      "source": [
        "import os\n",
        "from google.colab import userdata\n",
        "os.environ[\"AWS_ACCESS_KEY_ID\"] = userdata.get('AWS_ACCESS_KEY_ID')\n",
        "os.environ[\"AWS_SECRET_ACCESS_KEY\"] = userdata.get('AWS_SECRET_ACCESS_KEY')\n",
        "os.environ[\"AWS_DEFAULT_REGION\"] = userdata.get('AWS_DEFAULT_REGION')"
      ]
    },
    {
      "cell_type": "markdown",
      "source": [
        "# **PDF**"
      ],
      "metadata": {
        "id": "Pj4FYj1dOxXm"
      },
      "id": "Pj4FYj1dOxXm"
    },
    {
      "cell_type": "code",
      "execution_count": 4,
      "id": "f94a8167",
      "metadata": {
        "id": "f94a8167"
      },
      "outputs": [],
      "source": [
        "from langchain.document_loaders import PyPDFLoader\n",
        "loader = PyPDFLoader(\"/content/Documents/MachineLearning-Lecture01.pdf\")\n",
        "pages = loader.load()"
      ]
    },
    {
      "cell_type": "code",
      "execution_count": 5,
      "id": "0190a889",
      "metadata": {
        "id": "0190a889",
        "outputId": "befd82fb-06d0-48e9-9021-c4cdecbe44cd",
        "colab": {
          "base_uri": "https://localhost:8080/"
        }
      },
      "outputs": [
        {
          "output_type": "stream",
          "name": "stdout",
          "text": [
            "MachineLearning-Lecture01  \n",
            "Instructor (Andrew Ng): Okay. Good morning. Welcome to CS229, the machine \n",
            "learning class. So what I wanna do today is just spend a little time going over the logistics \n",
            "of the class, and then we'll start to talk a bit about machine learning.  \n",
            "By way of introduction, my name's Andrew Ng and I'll be instructor for this class. And so \n",
            "I personally work in machine learning, and I've worked on it for about 15 years now, and \n",
            "I actually think that machine learning is the \n"
          ]
        },
        {
          "output_type": "execute_result",
          "data": {
            "text/plain": [
              "{'producer': 'Acrobat Distiller 8.1.0 (Windows)',\n",
              " 'creator': 'PScript5.dll Version 5.2.2',\n",
              " 'creationdate': '2008-07-11T11:25:23-07:00',\n",
              " 'author': '',\n",
              " 'moddate': '2008-07-11T11:25:23-07:00',\n",
              " 'title': '',\n",
              " 'source': '/content/Documents/MachineLearning-Lecture01.pdf',\n",
              " 'total_pages': 22,\n",
              " 'page': 0,\n",
              " 'page_label': '1'}"
            ]
          },
          "metadata": {},
          "execution_count": 5
        }
      ],
      "source": [
        "len(pages)\n",
        "\n",
        "page = pages[0]\n",
        "print(page.page_content[0:500])\n",
        "\n",
        "page.metadata"
      ]
    },
    {
      "cell_type": "markdown",
      "source": [
        "# **URL**"
      ],
      "metadata": {
        "id": "jv999yitPEWJ"
      },
      "id": "jv999yitPEWJ"
    },
    {
      "cell_type": "code",
      "execution_count": 6,
      "id": "04070f0f",
      "metadata": {
        "id": "04070f0f",
        "outputId": "c1c93716-a66b-4704-9623-231675ea7be9",
        "colab": {
          "base_uri": "https://localhost:8080/",
          "height": 72
        }
      },
      "outputs": [
        {
          "output_type": "stream",
          "name": "stderr",
          "text": [
            "WARNING:langchain_community.utils.user_agent:USER_AGENT environment variable not set, consider setting it to identify your requests.\n"
          ]
        },
        {
          "output_type": "execute_result",
          "data": {
            "text/plain": [
              "'Account Suspended!\\nPlease contact our support team for further assistance.\\n\\n*If you’re the owner of this website and have questions, reach out to Bluehost. We’re happy to help.'"
            ],
            "application/vnd.google.colaboratory.intrinsic+json": {
              "type": "string"
            }
          },
          "metadata": {},
          "execution_count": 6
        }
      ],
      "source": [
        "from langchain.document_loaders import WebBaseLoader\n",
        "\n",
        "loader = WebBaseLoader(\"https://swayaan.com/\")\n",
        "\n",
        "docs = loader.load()\n",
        "content = docs[0].page_content.strip()\n",
        "content[:1000]"
      ]
    },
    {
      "cell_type": "markdown",
      "source": [
        "# **CSV**"
      ],
      "metadata": {
        "id": "HTF0Y2VFPI7r"
      },
      "id": "HTF0Y2VFPI7r"
    },
    {
      "cell_type": "code",
      "source": [
        "from langchain_community.document_loaders.csv_loader import CSVLoader\n",
        "\n",
        "file_path = (\n",
        "    \"/content/Documents/employee.csv\"\n",
        ")\n",
        "\n",
        "loader = CSVLoader(file_path=file_path)\n",
        "data = loader.load()\n",
        "\n",
        "for record in data[:4]:\n",
        "    print(record)"
      ],
      "metadata": {
        "colab": {
          "base_uri": "https://localhost:8080/"
        },
        "id": "RtxvLa3VOuVa",
        "outputId": "2172f5f0-14cb-4e3c-8a7a-f61bb1076a97"
      },
      "id": "RtxvLa3VOuVa",
      "execution_count": 7,
      "outputs": [
        {
          "output_type": "stream",
          "name": "stdout",
          "text": [
            "page_content='Employee ID: 1\n",
            "Employee Name: John Doe\n",
            "Designation: Software Engineer\n",
            "Tools Used: Eclipse, Git, JIRA\n",
            "Date of Birth: 15-03-1985\n",
            "Salary: $75,000\n",
            "Hire Date: 20-06-2010\n",
            ": ' metadata={'source': '/content/Documents/employee.csv', 'row': 0}\n",
            "page_content='Employee ID: 2\n",
            "Employee Name: Jane Smith\n",
            "Designation: UI/UX Designer\n",
            "Tools Used: Figma, Adobe XD, Sketch\n",
            "Date of Birth: 22-08-1990\n",
            "Salary: $55,000\n",
            "Hire Date: 10-02-2019\n",
            ": ' metadata={'source': '/content/Documents/employee.csv', 'row': 1}\n",
            "page_content='Employee ID: 3\n",
            "Employee Name: Alice Brown\n",
            "Designation: Database Administrator\n",
            "Tools Used: MySQL, MongoDB, Oracle\n",
            "Date of Birth: 10-11-1988\n",
            "Salary: $60,000\n",
            "Hire Date: 05-04-2015\n",
            ": ' metadata={'source': '/content/Documents/employee.csv', 'row': 2}\n",
            "page_content='Employee ID: 4\n",
            "Employee Name: Bob White\n",
            "Designation: DevOps Engineer\n",
            "Tools Used: Jenkins, Docker, Kubernetes\n",
            "Date of Birth: 02-04-1980\n",
            "Salary: $80,000\n",
            "Hire Date: 15-09-2013\n",
            ": ' metadata={'source': '/content/Documents/employee.csv', 'row': 3}\n"
          ]
        }
      ]
    },
    {
      "cell_type": "markdown",
      "source": [
        "# **Let's Do an Activity**\n",
        "\n",
        "## **Objective**\n",
        "\n",
        "Practice document loading techniques with LangChain to fetch and process content from various sources such as PDFs, URLs, and CSV files.\n",
        "\n",
        "## **Scenario**\n",
        "\n",
        "You are developing a data processing module that needs to retrieve and analyze information from different types of documents. This activity will help you familiarize yourself with document loading capabilities in LangChain and understand how to handle diverse data sources effectively.\n",
        "\n",
        "## **Steps**\n",
        "\n",
        "* Load PDF Document\n",
        "* Load Web Content (URL)\n",
        "* Load CSV Data\n",
        "* Explore and Analyze"
      ],
      "metadata": {
        "id": "uwzCj-wIPgIL"
      },
      "id": "uwzCj-wIPgIL"
    },
    {
      "cell_type": "code",
      "source": [],
      "metadata": {
        "id": "qomHh87APgim"
      },
      "id": "qomHh87APgim",
      "execution_count": null,
      "outputs": []
    }
  ],
  "metadata": {
    "kernelspec": {
      "display_name": "Python 3 (ipykernel)",
      "language": "python",
      "name": "python3"
    },
    "language_info": {
      "codemirror_mode": {
        "name": "ipython",
        "version": 3
      },
      "file_extension": ".py",
      "mimetype": "text/x-python",
      "name": "python",
      "nbconvert_exporter": "python",
      "pygments_lexer": "ipython3",
      "version": "3.11.4"
    },
    "colab": {
      "provenance": []
    }
  },
  "nbformat": 4,
  "nbformat_minor": 5
}