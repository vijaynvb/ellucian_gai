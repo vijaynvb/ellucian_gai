{
  "nbformat": 4,
  "nbformat_minor": 0,
  "metadata": {
    "colab": {
      "provenance": []
    },
    "kernelspec": {
      "name": "python3",
      "display_name": "Python 3"
    },
    "language_info": {
      "name": "python"
    }
  },
  "cells": [
    {
      "cell_type": "markdown",
      "metadata": {
        "id": "537b005a"
      },
      "source": [
        "# Learn Python\n",
        "\n",
        "This notebook covers the basics of Python programming, which are essential for working with AI and data science."
      ]
    },
    {
      "cell_type": "markdown",
      "metadata": {
        "id": "d89904fd"
      },
      "source": [
        "## Variables and Data Types"
      ]
    },
    {
      "cell_type": "code",
      "metadata": {
        "id": "7bc27c21"
      },
      "source": [
        "# Variables\n",
        "x = 10\n",
        "y = \"Hello\"\n",
        "z = 3.14\n",
        "\n",
        "# Data Types\n",
        "# Integer\n",
        "a = 10\n",
        "print(type(a))\n",
        "\n",
        "# String\n",
        "b = \"World\"\n",
        "print(type(b))\n",
        "\n",
        "# Float\n",
        "c = 2.718\n",
        "print(type(c))\n",
        "\n",
        "# Boolean\n",
        "d = True\n",
        "print(type(d))"
      ],
      "execution_count": null,
      "outputs": []
    },
    {
      "cell_type": "markdown",
      "metadata": {
        "id": "1814f6c2"
      },
      "source": [
        "## Data Structures\n",
        "\n",
        "Python offers several built-in data structures to organize and store data."
      ]
    },
    {
      "cell_type": "code",
      "metadata": {
        "id": "5d5b2c20"
      },
      "source": [
        "# List (ordered, mutable)\n",
        "my_list = [1, 2, 3, \"apple\", \"banana\"]\n",
        "print(my_list[0])\n",
        "my_list.append(\"cherry\")\n",
        "print(my_list)\n",
        "\n",
        "# Tuple (ordered, immutable)\n",
        "my_tuple = (1, 2, 3, \"apple\", \"banana\")\n",
        "print(my_tuple[1])\n",
        "\n",
        "# Dictionary (unordered, mutable, key-value pairs)\n",
        "my_dict = {\"name\": \"Alice\", \"age\": 30, \"city\": \"New York\"}\n",
        "print(my_dict[\"name\"])\n",
        "my_dict[\"job\"] = \"Engineer\"\n",
        "print(my_dict)\n",
        "\n",
        "# Sets (unordered, mutable, unique elements)\n",
        "my_set = {1, 2, 3, 3, 4}\n",
        "print(my_set)"
      ],
      "execution_count": null,
      "outputs": []
    },
    {
      "cell_type": "markdown",
      "metadata": {
        "id": "9db4e322"
      },
      "source": [
        "## Control Flow\n",
        "\n",
        "Control flow statements determine the order in which code is executed."
      ]
    },
    {
      "cell_type": "markdown",
      "metadata": {
        "id": "b246b9a6"
      },
      "source": [
        "### Conditional Statements"
      ]
    },
    {
      "cell_type": "code",
      "metadata": {
        "id": "22a96776"
      },
      "source": [
        "age = 25\n",
        "if age < 18:\n",
        "  print(\"You are a minor.\")\n",
        "elif 18 <= age < 65:\n",
        "  print(\"You are an adult.\")\n",
        "else:\n",
        "  print(\"You are a senior.\")"
      ],
      "execution_count": null,
      "outputs": []
    },
    {
      "cell_type": "markdown",
      "metadata": {
        "id": "d1a37aa7"
      },
      "source": [
        "### Loops"
      ]
    },
    {
      "cell_type": "code",
      "metadata": {
        "id": "a2cc0cf9"
      },
      "source": [
        "# For loop\n",
        "fruits = [\"apple\", \"banana\", \"cherry\"]\n",
        "for fruit in fruits:\n",
        "  print(fruit)\n",
        "\n",
        "# While loop\n",
        "count = 0\n",
        "while count < 5:\n",
        "  print(count)\n",
        "  count += 1"
      ],
      "execution_count": null,
      "outputs": []
    },
    {
      "cell_type": "markdown",
      "metadata": {
        "id": "44b93412"
      },
      "source": [
        "### Loop Control Statements\n",
        "\n",
        "These statements alter the normal flow of loops."
      ]
    },
    {
      "cell_type": "code",
      "metadata": {
        "id": "27f813d9"
      },
      "source": [
        "# break\n",
        "for i in range(10):\n",
        "  if i == 5:\n",
        "    break\n",
        "  print(i)\n",
        "\n",
        "# continue\n",
        "for i in range(10):\n",
        "  if i % 2 == 0:\n",
        "    continue\n",
        "  print(i)\n",
        "\n",
        "# pass\n",
        "for i in range(10):\n",
        "  pass # Do nothing for now"
      ],
      "execution_count": null,
      "outputs": []
    },
    {
      "cell_type": "markdown",
      "metadata": {
        "id": "d4c42983"
      },
      "source": [
        "## Functions\n",
        "\n",
        "Functions are reusable blocks of code that perform a specific task."
      ]
    },
    {
      "cell_type": "code",
      "metadata": {
        "id": "b6eb6585"
      },
      "source": [
        "def greet(name):\n",
        "  \"\"\"This function greets the person passed in as a parameter.\"\"\"\n",
        "  print(f\"Hello, {name}!\")\n",
        "\n",
        "greet(\"Bob\")\n",
        "\n",
        "def add(x, y):\n",
        "  return x + y\n",
        "\n",
        "result = add(5, 3)\n",
        "print(result)\n",
        "\n",
        "# Lambda functions (anonymous functions)\n",
        "square = lambda x: x**2\n",
        "print(square(4))"
      ],
      "execution_count": null,
      "outputs": []
    },
    {
      "cell_type": "markdown",
      "metadata": {
        "id": "e9da3120"
      },
      "source": [
        "## Object-Oriented Programming (OOP)\n",
        "\n",
        "OOP is a programming paradigm based on the concept of objects."
      ]
    },
    {
      "cell_type": "code",
      "metadata": {
        "id": "3ebf002f"
      },
      "source": [
        "class Dog:\n",
        "  def __init__(self, name, age):\n",
        "    self.name = name\n",
        "    self.age = age\n",
        "\n",
        "  def bark(self):\n",
        "    print(f\"{self.name} says Woof!\")\n",
        "\n",
        "my_dog = Dog(\"Buddy\", 3)\n",
        "print(my_dog.name)\n",
        "my_dog.bark()"
      ],
      "execution_count": null,
      "outputs": []
    },
    {
      "cell_type": "markdown",
      "metadata": {
        "id": "36bda2c1"
      },
      "source": [
        "### Inheritance\n",
        "\n",
        "Inheritance allows a class to inherit properties and methods from another class."
      ]
    },
    {
      "cell_type": "code",
      "metadata": {
        "id": "798a615c"
      },
      "source": [
        "class Labrador(Dog):\n",
        "  def __init__(self, name, age, color):\n",
        "    super().__init__(name, age)\n",
        "    self.color = color\n",
        "\n",
        "  def swim(self):\n",
        "    print(f\"{self.name} loves to swim!\")\n",
        "\n",
        "my_labrador = Labrador(\"Lucy\", 5, \"yellow\")\n",
        "print(my_labrador.color)\n",
        "my_labrador.bark()\n",
        "my_labrador.swim()"
      ],
      "execution_count": null,
      "outputs": []
    },
    {
      "cell_type": "markdown",
      "metadata": {
        "id": "7157d57e"
      },
      "source": [
        "## Modules and Libraries\n",
        "\n",
        "Modules and libraries provide pre-written code that you can use in your programs."
      ]
    },
    {
      "cell_type": "code",
      "metadata": {
        "id": "fde1ad72"
      },
      "source": [
        "# Importing built-in modules\n",
        "import math\n",
        "print(math.sqrt(16))\n",
        "\n",
        "# Importing specific functions from a module\n",
        "from random import randint\n",
        "print(randint(1, 10))"
      ],
      "execution_count": null,
      "outputs": []
    },
    {
      "cell_type": "markdown",
      "metadata": {
        "id": "c30c7b6c"
      },
      "source": [
        "### Installing and Importing External Libraries\n",
        "\n",
        "You can use `pip` to install external libraries."
      ]
    },
    {
      "cell_type": "code",
      "metadata": {
        "id": "b7a8cce3"
      },
      "source": [
        "# Installing and importing external libraries (using pip)\n",
        "!pip install numpy\n",
        "import numpy as np\n",
        "\n",
        "my_array = np.array([1, 2, 3, 4, 5])\n",
        "print(my_array * 2)"
      ],
      "execution_count": null,
      "outputs": []
    },
    {
      "cell_type": "markdown",
      "metadata": {
        "id": "1ae6b780"
      },
      "source": [
        "## File Handling\n",
        "\n",
        "Python provides functions for working with files."
      ]
    },
    {
      "cell_type": "code",
      "metadata": {
        "id": "040124ce"
      },
      "source": [
        "# Writing to a file\n",
        "with open(\"my_file.txt\", \"w\") as f:\n",
        "  f.write(\"Hello, file!\")\n",
        "\n",
        "# Reading from a file\n",
        "with open(\"my_file.txt\", \"r\") as f:\n",
        "  content = f.read()\n",
        "  print(content)\n",
        "\n",
        "# Appending to a file\n",
        "with open(\"my_file.txt\", \"a\") as f:\n",
        "  f.write(\"\\nThis is a new line.\")\n",
        "\n",
        "with open(\"my_file.txt\", \"r\") as f:\n",
        "  content = f.read()\n",
        "  print(content)"
      ],
      "execution_count": null,
      "outputs": []
    },
    {
      "cell_type": "markdown",
      "metadata": {
        "id": "ccb6e8e8"
      },
      "source": [
        "## Error Handling (Try-Except)\n",
        "\n",
        "Error handling allows you to gracefully manage errors that may occur in your code."
      ]
    },
    {
      "cell_type": "code",
      "metadata": {
        "id": "8a497d83"
      },
      "source": [
        "try:\n",
        "  result = 10 / 0\n",
        "except ZeroDivisionError:\n",
        "  print(\"Cannot divide by zero!\")\n",
        "\n",
        "try:\n",
        "  num = int(\"abc\")\n",
        "except ValueError:\n",
        "  print(\"Invalid number format.\")"
      ],
      "execution_count": null,
      "outputs": []
    }
  ]
}