{
  "cells": [
    {
      "cell_type": "markdown",
      "source": [
        "# **Document Splitting**\n",
        "\n",
        "Document splitting is crucial because it ensures that semantically relevant content is grouped together within the same chunk. This is particularly important when answering questions or performing other tasks that rely on the contextual information present in the documents.\n",
        "\n"
      ],
      "metadata": {
        "id": "J4Mv09eTNpDz"
      },
      "id": "J4Mv09eTNpDz"
    },
    {
      "cell_type": "code",
      "source": [
        "%%capture\n",
        "# update or install the necessary libraries\n",
        "!pip install --upgrade langchain langchain_community pypdf tiktoken"
      ],
      "metadata": {
        "id": "5tL8w9jlQx9Y"
      },
      "id": "5tL8w9jlQx9Y",
      "execution_count": 1,
      "outputs": []
    },
    {
      "cell_type": "code",
      "execution_count": 2,
      "id": "d004c36b",
      "metadata": {
        "id": "d004c36b"
      },
      "outputs": [],
      "source": [
        "import os\n",
        "from google.colab import userdata\n",
        "os.environ[\"AWS_ACCESS_KEY_ID\"] = userdata.get('AWS_ACCESS_KEY_ID')\n",
        "os.environ[\"AWS_SECRET_ACCESS_KEY\"] = userdata.get('AWS_SECRET_ACCESS_KEY')\n",
        "os.environ[\"AWS_DEFAULT_REGION\"] = userdata.get('AWS_DEFAULT_REGION')"
      ]
    },
    {
      "cell_type": "code",
      "execution_count": 3,
      "id": "d3b0e2f6",
      "metadata": {
        "id": "d3b0e2f6"
      },
      "outputs": [],
      "source": [
        "from langchain.text_splitter import RecursiveCharacterTextSplitter, CharacterTextSplitter"
      ]
    },
    {
      "cell_type": "markdown",
      "source": [
        "## **RecursiveCharacterTextSplitter**\n",
        "\n",
        "The RecursiveCharacterTextSplitter is recommended for generic text splitting. It splits the text based on a hierarchy of separators, starting with double newlines (\\n\\n), then single newlines (\\n), spaces ( ), and finally, individual characters. This approach aims to preserve the structure and coherence of the text by prioritizing splitting at natural boundaries like paragraphs and sentences."
      ],
      "metadata": {
        "id": "Ysx_tvIuOZIY"
      },
      "id": "Ysx_tvIuOZIY"
    },
    {
      "cell_type": "code",
      "execution_count": 4,
      "id": "b80190a8",
      "metadata": {
        "id": "b80190a8"
      },
      "outputs": [],
      "source": [
        "chunk_size = 15\n",
        "chunk_overlap = 4\n",
        "\n",
        "r_splitter = RecursiveCharacterTextSplitter(\n",
        "    chunk_size=chunk_size,\n",
        "    chunk_overlap=chunk_overlap\n",
        ")"
      ]
    },
    {
      "cell_type": "code",
      "execution_count": 5,
      "id": "141da019",
      "metadata": {
        "colab": {
          "base_uri": "https://localhost:8080/"
        },
        "id": "141da019",
        "outputId": "175586ec-352d-40ac-cda5-0d10a7e59e3b"
      },
      "outputs": [
        {
          "output_type": "execute_result",
          "data": {
            "text/plain": [
              "['employeemanagem', 'agementsystem']"
            ]
          },
          "metadata": {},
          "execution_count": 5
        }
      ],
      "source": [
        "text1 = 'employeemanagementsystem'\n",
        "\n",
        "r_splitter.split_text(text1)"
      ]
    },
    {
      "cell_type": "code",
      "source": [
        "text2 = 'employeemanagementsystemarch'\n",
        "\n",
        "r_splitter.split_text(text2)"
      ],
      "metadata": {
        "colab": {
          "base_uri": "https://localhost:8080/"
        },
        "id": "Bzi_gCs6SiUd",
        "outputId": "957e2861-4a98-4120-f186-72afe9818b0f"
      },
      "id": "Bzi_gCs6SiUd",
      "execution_count": 6,
      "outputs": [
        {
          "output_type": "execute_result",
          "data": {
            "text/plain": [
              "['employeemanagem', 'agementsystemar', 'emarch']"
            ]
          },
          "metadata": {},
          "execution_count": 6
        }
      ]
    },
    {
      "cell_type": "markdown",
      "source": [
        "## **CharacterTextSplitter**\n",
        "\n",
        "The CharacterTextSplitter is a more basic splitter that splits the text based on a single character separator, such as a space or a newline. This splitter is useful when dealing with text that doesn't have a clear structure or when you want to split the text at specific points.\n",
        "\n"
      ],
      "metadata": {
        "id": "PLIBa5-3Oseg"
      },
      "id": "PLIBa5-3Oseg"
    },
    {
      "cell_type": "code",
      "source": [
        "c_splitter = CharacterTextSplitter(\n",
        "    chunk_size=chunk_size,\n",
        "    chunk_overlap=chunk_overlap\n",
        ")"
      ],
      "metadata": {
        "id": "H_Q3D4vnOkiZ"
      },
      "id": "H_Q3D4vnOkiZ",
      "execution_count": 7,
      "outputs": []
    },
    {
      "cell_type": "code",
      "execution_count": 8,
      "id": "028320a0",
      "metadata": {
        "colab": {
          "base_uri": "https://localhost:8080/"
        },
        "id": "028320a0",
        "outputId": "205a2bfe-b979-4ca5-83c4-133330a29fd8"
      },
      "outputs": [
        {
          "output_type": "execute_result",
          "data": {
            "text/plain": [
              "['e m p l o y e e', 'e e m a n a g e', 'g e m e n t s y', 's y s t e m']"
            ]
          },
          "metadata": {},
          "execution_count": 8
        }
      ],
      "source": [
        "text3 = \"e m p l o y e e m a n a g e m e n t s y s t e m\"\n",
        "r_splitter.split_text(text3)\n",
        "c_splitter.split_text(text3)\n",
        "c_splitter = CharacterTextSplitter(\n",
        "    chunk_size=chunk_size,\n",
        "    chunk_overlap=chunk_overlap,\n",
        "    separator = ' '\n",
        ")\n",
        "c_splitter.split_text(text3)"
      ]
    },
    {
      "cell_type": "markdown",
      "source": [
        "# **Recursive splitting details**\n",
        "\n",
        "\n",
        "RecursiveCharacterTextSplitter is recommended for generic text.\n",
        "\n"
      ],
      "metadata": {
        "id": "LUhtRh_RTiA1"
      },
      "id": "LUhtRh_RTiA1"
    },
    {
      "cell_type": "code",
      "execution_count": 9,
      "id": "b1bc9199",
      "metadata": {
        "id": "b1bc9199"
      },
      "outputs": [],
      "source": [
        "some_text = \"\"\"When writing documents, writers will use document structure to group content. \\\n",
        "This can convey to the reader, which idea's are related. For example, closely related ideas \\\n",
        "are in sentances. Similar ideas are in paragraphs. Paragraphs form a document. \\n\\n  \\\n",
        "Paragraphs are often delimited with a carriage return or two carriage returns. \\\n",
        "Carriage returns are the \"backslash n\" you see embedded in this string. \\\n",
        "Sentences have a period at the end, but also, have a space.\\\n",
        "and words are separated by space.\"\"\""
      ]
    },
    {
      "cell_type": "code",
      "execution_count": 10,
      "id": "7235e106",
      "metadata": {
        "id": "7235e106",
        "outputId": "4b16c6f5-9130-4e84-f82a-27bbe7dd2f3b",
        "colab": {
          "base_uri": "https://localhost:8080/"
        }
      },
      "outputs": [
        {
          "output_type": "execute_result",
          "data": {
            "text/plain": [
              "496"
            ]
          },
          "metadata": {},
          "execution_count": 10
        }
      ],
      "source": [
        "len(some_text)"
      ]
    },
    {
      "cell_type": "code",
      "execution_count": 11,
      "id": "27bc4657",
      "metadata": {
        "colab": {
          "base_uri": "https://localhost:8080/"
        },
        "id": "27bc4657",
        "outputId": "7833ba17-c76f-46ae-fc97-77af45c0b6bc"
      },
      "outputs": [
        {
          "output_type": "execute_result",
          "data": {
            "text/plain": [
              "['When writing documents, writers will use document structure to group content. This can convey to the reader, which idea\\'s are related. For example, closely related ideas are in sentances. Similar ideas are in paragraphs. Paragraphs form a document. \\n\\n Paragraphs are often delimited with a carriage return or two carriage returns. Carriage returns are the \"backslash n\" you see embedded in this string. Sentences have a period at the end, but also,',\n",
              " 'have a space.and words are separated by space.']"
            ]
          },
          "metadata": {},
          "execution_count": 11
        }
      ],
      "source": [
        "c_splitter = CharacterTextSplitter(\n",
        "    chunk_size=450,\n",
        "    chunk_overlap=0,\n",
        "    separator = ' '\n",
        ")\n",
        "r_splitter = RecursiveCharacterTextSplitter(\n",
        "    chunk_size=343,\n",
        "    chunk_overlap=0,\n",
        "    separators=[\"\\n\\n\", \"\\n\", \" \", \"\"]\n",
        ")\n",
        "\n",
        "c_splitter.split_text(some_text)\n"
      ]
    },
    {
      "cell_type": "code",
      "execution_count": 12,
      "id": "1129f129",
      "metadata": {
        "colab": {
          "base_uri": "https://localhost:8080/"
        },
        "id": "1129f129",
        "outputId": "18c498e2-cd5f-4e06-de23-9c6680c69fb8"
      },
      "outputs": [
        {
          "output_type": "execute_result",
          "data": {
            "text/plain": [
              "[\"When writing documents, writers will use document structure to group content. This can convey to the reader, which idea's are related. For example,\",\n",
              " 'closely related ideas are in sentances. Similar ideas are in paragraphs. Paragraphs form a document.',\n",
              " 'Paragraphs are often delimited with a carriage return or two carriage returns. Carriage returns are the \"backslash n\" you see embedded in this',\n",
              " 'string. Sentences have a period at the end, but also, have a space.and words are separated by space.']"
            ]
          },
          "metadata": {},
          "execution_count": 12
        }
      ],
      "source": [
        "r_splitter = RecursiveCharacterTextSplitter(\n",
        "    chunk_size=150,\n",
        "    chunk_overlap=0,\n",
        "    separators=[\"\\n\\n\", \"\\n\", \"\\. \", \" \", \"\"]\n",
        ")\n",
        "r_splitter.split_text(some_text)\n",
        "\n",
        "r_splitter = RecursiveCharacterTextSplitter(\n",
        "    chunk_size=150,\n",
        "    chunk_overlap=0,\n",
        "    separators=[\"\\n\\n\", \"\\n\", \"(?<=\\. )\", \" \", \"\"]\n",
        ")\n",
        "r_splitter.split_text(some_text)\n",
        "\n"
      ]
    },
    {
      "cell_type": "code",
      "execution_count": 14,
      "id": "e128d8c0",
      "metadata": {
        "id": "e128d8c0"
      },
      "outputs": [],
      "source": [
        "from langchain.document_loaders import PyPDFLoader\n",
        "loader = PyPDFLoader(\"/content/content/MachineLearning-Lecture01.pdf\")\n",
        "pages = loader.load()"
      ]
    },
    {
      "cell_type": "code",
      "execution_count": 15,
      "id": "308e62c3",
      "metadata": {
        "colab": {
          "base_uri": "https://localhost:8080/"
        },
        "id": "308e62c3",
        "outputId": "6f2c21f8-aa9e-45f7-ab38-71da15b6bb53"
      },
      "outputs": [
        {
          "output_type": "execute_result",
          "data": {
            "text/plain": [
              "22"
            ]
          },
          "metadata": {},
          "execution_count": 15
        }
      ],
      "source": [
        "from langchain.text_splitter import CharacterTextSplitter\n",
        "text_splitter = CharacterTextSplitter(\n",
        "    separator=\"\\n\",\n",
        "    chunk_size=1000,\n",
        "    chunk_overlap=150,\n",
        "    length_function=len\n",
        ")\n",
        "\n",
        "docs = text_splitter.split_documents(pages)\n",
        "\n",
        "len(docs)\n",
        "len(pages)"
      ]
    },
    {
      "cell_type": "markdown",
      "source": [
        "# **Token splitting**\n",
        "\n",
        "The TokenTextSplitter splits the text based on token count rather than character count. This can be useful because many language models have context windows designated by token count rather than character count. Tokens are often approximately four characters long, so splitting based on token count can provide a better representation of how the language model will process the text."
      ],
      "metadata": {
        "id": "VJf2gLvaTyos"
      },
      "id": "VJf2gLvaTyos"
    },
    {
      "cell_type": "code",
      "execution_count": 16,
      "id": "c4c1cadf",
      "metadata": {
        "id": "c4c1cadf"
      },
      "outputs": [],
      "source": [
        "from langchain.text_splitter import TokenTextSplitter\n",
        "\n",
        "text_splitter = TokenTextSplitter(chunk_size=1, chunk_overlap=0)"
      ]
    },
    {
      "cell_type": "code",
      "execution_count": 17,
      "id": "644b957d",
      "metadata": {
        "colab": {
          "base_uri": "https://localhost:8080/"
        },
        "id": "644b957d",
        "outputId": "c338fb4f-fa8d-4fd7-e311-8100da58d59b"
      },
      "outputs": [
        {
          "output_type": "execute_result",
          "data": {
            "text/plain": [
              "['Hello', ' World']"
            ]
          },
          "metadata": {},
          "execution_count": 17
        }
      ],
      "source": [
        "text1 = \"Hello World\"\n",
        "text_splitter.split_text(text1)"
      ]
    },
    {
      "cell_type": "code",
      "execution_count": 18,
      "id": "f8894645",
      "metadata": {
        "id": "f8894645"
      },
      "outputs": [],
      "source": [
        "text_splitter = TokenTextSplitter(chunk_size=10, chunk_overlap=0)"
      ]
    },
    {
      "cell_type": "code",
      "execution_count": 19,
      "id": "24d9d54a",
      "metadata": {
        "id": "24d9d54a"
      },
      "outputs": [],
      "source": [
        "docs = text_splitter.split_documents(pages)"
      ]
    },
    {
      "cell_type": "code",
      "execution_count": 20,
      "id": "f67ec33a",
      "metadata": {
        "id": "f67ec33a",
        "outputId": "d000e843-c0d4-401f-a43a-80795279b938",
        "colab": {
          "base_uri": "https://localhost:8080/"
        }
      },
      "outputs": [
        {
          "output_type": "execute_result",
          "data": {
            "text/plain": [
              "Document(metadata={'producer': 'Acrobat Distiller 8.1.0 (Windows)', 'creator': 'PScript5.dll Version 5.2.2', 'creationdate': '2008-07-11T11:25:23-07:00', 'author': '', 'moddate': '2008-07-11T11:25:23-07:00', 'title': '', 'source': '/content/content/MachineLearning-Lecture01.pdf', 'total_pages': 22, 'page': 0, 'page_label': '1'}, page_content='MachineLearning-Lecture01  \\n')"
            ]
          },
          "metadata": {},
          "execution_count": 20
        }
      ],
      "source": [
        "docs[0]"
      ]
    },
    {
      "cell_type": "code",
      "execution_count": 21,
      "id": "c3987d89",
      "metadata": {
        "id": "c3987d89",
        "outputId": "30355c3c-a619-430f-de04-42246c8bc214",
        "colab": {
          "base_uri": "https://localhost:8080/"
        }
      },
      "outputs": [
        {
          "output_type": "execute_result",
          "data": {
            "text/plain": [
              "{'producer': 'Acrobat Distiller 8.1.0 (Windows)',\n",
              " 'creator': 'PScript5.dll Version 5.2.2',\n",
              " 'creationdate': '2008-07-11T11:25:23-07:00',\n",
              " 'author': '',\n",
              " 'moddate': '2008-07-11T11:25:23-07:00',\n",
              " 'title': '',\n",
              " 'source': '/content/content/MachineLearning-Lecture01.pdf',\n",
              " 'total_pages': 22,\n",
              " 'page': 0,\n",
              " 'page_label': '1'}"
            ]
          },
          "metadata": {},
          "execution_count": 21
        }
      ],
      "source": [
        "pages[0].metadata"
      ]
    },
    {
      "cell_type": "markdown",
      "source": [
        "# **Let's Do an Activity**\n",
        "\n",
        "## **Objective**\n",
        "\n",
        "Practice document splitting techniques with LangChain to manage large text content effectively. You will learn to use different splitters to break down text into manageable chunks, which is essential for tasks like text analysis, summarization, and feeding content into language models.\n",
        "\n",
        "## **Scenario**\n",
        "\n",
        "You are developing a text analysis module that processes large documents. This activity will help you understand how to use various text splitting techniques in LangChain to handle large text inputs efficiently.\n",
        "\n",
        "## **Steps**\n",
        "\n",
        "* Load a Sample Document\n",
        "* RecursiveCharacterTextSplitter\n",
        "\n",
        "  * Use `RecursiveCharacterTextSplitter` to split the text based on a hierarchy of separators.\n",
        "  * Set a `chunk_size` and `chunk_overlap` to see how the text is divided.\n",
        "  * Experiment with different separators to observe how the splitting changes.\n",
        "\n",
        "* CharacterTextSplitter\n",
        "\n",
        "  * Use `CharacterTextSplitter` to split the text based on a single character separator.\n",
        "  * Compare the results with the recursive splitter to understand the differences.\n",
        "\n",
        "* TokenTextSplitter\n",
        "\n",
        "  * Use `TokenTextSplitter` to split the text based on token count.\n",
        "  * Set a `chunk_size` and `chunk_overlap` to see how the text is divided.\n",
        "  * Understand the importance of token-based splitting for language model processing.\n",
        "\n",
        "* Exploration and Analysis\n",
        "\n",
        "  * Experiment with different `chunk_size` and `chunk_overlap` settings to see how they affect the splitting.\n",
        "  * Use various text samples and documents to explore the effectiveness of each splitting technique."
      ],
      "metadata": {
        "id": "9XshdUJfPoc_"
      },
      "id": "9XshdUJfPoc_"
    }
  ],
  "metadata": {
    "kernelspec": {
      "display_name": "Python 3 (ipykernel)",
      "language": "python",
      "name": "python3"
    },
    "language_info": {
      "codemirror_mode": {
        "name": "ipython",
        "version": 3
      },
      "file_extension": ".py",
      "mimetype": "text/x-python",
      "name": "python",
      "nbconvert_exporter": "python",
      "pygments_lexer": "ipython3",
      "version": "3.11.4"
    },
    "colab": {
      "provenance": []
    }
  },
  "nbformat": 4,
  "nbformat_minor": 5
}