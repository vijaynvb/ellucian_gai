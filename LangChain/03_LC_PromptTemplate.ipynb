{
  "cells": [
    {
      "cell_type": "markdown",
      "id": "5WL5rwU6Esui",
      "metadata": {
        "id": "5WL5rwU6Esui"
      },
      "source": [
        "# **Prompts Template**\n",
        "\n",
        "\n",
        "A prompt template is a structured framework that allows for dynamic generation of prompts based on predefined patterns and placeholders. It typically includes fixed text and variables that can be filled with specific values at runtime. Prompt templates are useful when generating multiple prompts with similar structures but varying content or style.\n",
        "\n",
        "\n"
      ]
    },
    {
      "cell_type": "markdown",
      "id": "_lEJ-VbxsSJx",
      "metadata": {
        "id": "_lEJ-VbxsSJx"
      },
      "source": [
        "Lets see an usecase how you can define a prompt template where you can configure values as placeholders and execute and pass it as a input to LLM\n",
        "\n"
      ]
    },
    {
      "cell_type": "code",
      "execution_count": 1,
      "id": "u-jFZNEETIKO",
      "metadata": {
        "id": "u-jFZNEETIKO"
      },
      "outputs": [],
      "source": [
        "%%capture\n",
        "# update or install the necessary libraries\n",
        "!pip install --upgrade langchain langchain_community langchain_aws"
      ]
    },
    {
      "cell_type": "code",
      "execution_count": 2,
      "id": "d6e37738",
      "metadata": {
        "id": "d6e37738"
      },
      "outputs": [],
      "source": [
        "import os\n",
        "from google.colab import userdata\n",
        "os.environ[\"AWS_ACCESS_KEY_ID\"] = userdata.get('AWS_ACCESS_KEY_ID')\n",
        "os.environ[\"AWS_SECRET_ACCESS_KEY\"] = userdata.get('AWS_SECRET_ACCESS_KEY')\n",
        "os.environ[\"AWS_DEFAULT_REGION\"] = userdata.get('AWS_DEFAULT_REGION')"
      ]
    },
    {
      "cell_type": "code",
      "execution_count": null,
      "id": "eb6c7d56",
      "metadata": {
        "id": "eb6c7d56"
      },
      "outputs": [],
      "source": [
        "from langchain_aws import ChatBedrock\n",
        "\n",
        "llm = ChatBedrock(\n",
        "    model_id=\"mistral.mistral-7b-instruct-v0:2\",\n",
        "    temperature=0.5\n",
        ")"
      ]
    },
    {
      "cell_type": "code",
      "execution_count": 5,
      "id": "FFxW9RQfFClE",
      "metadata": {
        "colab": {
          "base_uri": "https://localhost:8080/",
          "height": 54
        },
        "id": "FFxW9RQfFClE",
        "outputId": "59d38647-d60d-4d7a-a90f-58dd572c634e"
      },
      "outputs": [
        {
          "data": {
            "application/vnd.google.colaboratory.intrinsic+json": {
              "type": "string"
            },
            "text/plain": [
              "' The statement \"Today is Monday, tomorrow is Wednesday\" is inconsistent because if today is Monday, then the next day (tomorrow) cannot be Wednesday without skipping over Tuesday. So the statement is incorrect.'"
            ]
          },
          "execution_count": 5,
          "metadata": {},
          "output_type": "execute_result"
        }
      ],
      "source": [
        "prompt = \"\"\"\n",
        "Today is Monday, tomorrow is Wednesday.\n",
        "\n",
        "What is wrong with that statement?\n",
        "\"\"\"\n",
        "\n",
        "response = llm.invoke(prompt)\n",
        "response.content"
      ]
    },
    {
      "cell_type": "markdown",
      "id": "oufRk-hOEpyK",
      "metadata": {
        "id": "oufRk-hOEpyK"
      },
      "source": [
        "## **Prompt template**\n",
        "\n",
        "An object that helps create prompts based on a combination of user input, other non-static information and a fixed template string.\n",
        "\n",
        "* **Template String**: A template string is defined, which includes placeholders for `style` and `text`. This template will be used to create dynamic prompts.\n",
        "* **ChatPromptTemplate**: The ChatPromptTemplate class from LangChain is used to create a prompt template from the defined string.\n",
        "* **Input Variables**: The input_variables attribute shows the placeholders that need to be filled when formatting the template."
      ]
    },
    {
      "cell_type": "code",
      "execution_count": 6,
      "id": "84ad2b93",
      "metadata": {
        "id": "84ad2b93"
      },
      "outputs": [],
      "source": [
        "template_string = \"\"\"Translate the text \\\n",
        "that is delimited by triple backticks \\\n",
        "into a style that is {style}. \\\n",
        "text: ```{text}```\n",
        "\"\"\""
      ]
    },
    {
      "cell_type": "code",
      "execution_count": 7,
      "id": "c56d37f3",
      "metadata": {
        "id": "c56d37f3"
      },
      "outputs": [],
      "source": [
        "# prompt template\n",
        "from langchain.prompts import ChatPromptTemplate\n",
        "\n",
        "prompt_template = ChatPromptTemplate.from_template(template_string)"
      ]
    },
    {
      "cell_type": "code",
      "execution_count": 8,
      "id": "014cd73e",
      "metadata": {
        "colab": {
          "base_uri": "https://localhost:8080/"
        },
        "id": "014cd73e",
        "outputId": "c1f9c52c-4020-4db0-e572-107318d4a1b4"
      },
      "outputs": [
        {
          "data": {
            "text/plain": [
              "PromptTemplate(input_variables=['style', 'text'], input_types={}, partial_variables={}, template='Translate the text that is delimited by triple backticks into a style that is {style}. text: ```{text}```\\n')"
            ]
          },
          "execution_count": 8,
          "metadata": {},
          "output_type": "execute_result"
        }
      ],
      "source": [
        "prompt_template.messages[0].prompt"
      ]
    },
    {
      "cell_type": "code",
      "execution_count": 9,
      "id": "yBRDvJFgVelm",
      "metadata": {
        "colab": {
          "base_uri": "https://localhost:8080/"
        },
        "id": "yBRDvJFgVelm",
        "outputId": "9aedcfb4-c01f-4277-c419-499c3ee9a8a8"
      },
      "outputs": [
        {
          "data": {
            "text/plain": [
              "['style', 'text']"
            ]
          },
          "execution_count": 9,
          "metadata": {},
          "output_type": "execute_result"
        }
      ],
      "source": [
        "prompt_template.messages[0].prompt.input_variables"
      ]
    },
    {
      "cell_type": "markdown",
      "id": "2F4JIbzmHGuE",
      "metadata": {
        "id": "2F4JIbzmHGuE"
      },
      "source": [
        "## **Formatting the Employee's Email**\n",
        "\n",
        "* **Employee Style**: A style specification for translating text is defined (British English in a calm and respectful tone).\n",
        "* **Employee Email**: A sample French email requesting vacation is provided.\n",
        "* **Format Messages**: The format_messages method of the prompt template is used to fill in the placeholders with the specified style and text.\n",
        "* Model Response: The formatted messages are sent to the language model for processing, and the response is printed."
      ]
    },
    {
      "cell_type": "code",
      "execution_count": 10,
      "id": "c2af340f",
      "metadata": {
        "id": "c2af340f"
      },
      "outputs": [],
      "source": [
        "employee_style = \"\"\"British English \\\n",
        "in a calm and respectful tone\n",
        "\"\"\""
      ]
    },
    {
      "cell_type": "code",
      "execution_count": 11,
      "id": "444891fb",
      "metadata": {
        "id": "444891fb"
      },
      "outputs": [],
      "source": [
        "# french language letter for vacation request\n",
        "employee_email = \"\"\"\n",
        "Objet : Demande de Congé\n",
        "\n",
        "Cher [Nom du Responsable],\n",
        "\n",
        "Je m'appelle John et je travaille au sein de la société XYZ.\n",
        "J'aimerais solliciter une demande de congé pour partir en vacances.\n",
        "Serait-il possible de discuter des dates qui conviendraient le mieux pour l'équipe et l'entreprise?\n",
        "\n",
        "Je vous remercie par avance pour votre compréhension et j'attends votre retour.\n",
        "\n",
        "Cordialement,\n",
        "John\n",
        "\n",
        "\"\"\""
      ]
    },
    {
      "cell_type": "code",
      "execution_count": 12,
      "id": "f36b2801",
      "metadata": {
        "id": "f36b2801"
      },
      "outputs": [],
      "source": [
        "employee_messages = prompt_template.format_messages(\n",
        "                    style=employee_style,\n",
        "                    text=employee_email)"
      ]
    },
    {
      "cell_type": "code",
      "execution_count": 13,
      "id": "a4dc09e3",
      "metadata": {
        "id": "a4dc09e3"
      },
      "outputs": [],
      "source": [
        "employee_response = llm.invoke(employee_messages)"
      ]
    },
    {
      "cell_type": "code",
      "execution_count": 14,
      "id": "c93c6be1",
      "metadata": {
        "colab": {
          "base_uri": "https://localhost:8080/",
          "height": 54
        },
        "collapsed": true,
        "id": "c93c6be1",
        "outputId": "cb9a8c37-dfbb-4a6f-9b33-c2dc85200f78"
      },
      "outputs": [
        {
          "data": {
            "application/vnd.google.colaboratory.intrinsic+json": {
              "type": "string"
            },
            "text/plain": [
              "\" Dear [Responsible's Name],\\n\\nI hope this message finds you well. I am John, an employee at XYZ Company.\\n\\nI would like to kindly request some annual leave, as I am planning to go on holiday. Could we perhaps discuss some dates that would be most suitable for both the team and the business?\\n\\nI greatly appreciate your understanding and look forward to your response.\\n\\nYours sincerely,\\nJohn\""
            ]
          },
          "execution_count": 14,
          "metadata": {},
          "output_type": "execute_result"
        }
      ],
      "source": [
        "employee_response.content"
      ]
    },
    {
      "cell_type": "markdown",
      "id": "NMdWIvLXHhcM",
      "metadata": {
        "id": "NMdWIvLXHhcM"
      },
      "source": [
        "## **Formatting the Manager's Reply**\n",
        "\n",
        "* **Manager Reply**: A sample reply from a manager is provided in English.\n",
        "* **Manager Style**: The style for translating the manager's reply is defined (a polite tone that speaks in French).\n",
        "* **Format Messages**: The prompt template is used again to format the manager's reply with the specified style.\n",
        "* **Model Response**: The formatted messages are sent to the model, and the response is printed."
      ]
    },
    {
      "cell_type": "code",
      "execution_count": 15,
      "id": "f65a0f80",
      "metadata": {
        "id": "f65a0f80"
      },
      "outputs": [],
      "source": [
        "manager_reply = \"\"\"\n",
        "Subject: Re: Demande de Congé\n",
        "\n",
        "Hi John,\n",
        "\n",
        "Thank you for reaching out. I've reviewed your request for vacation leave.\\\n",
        "Please provide the specific dates you'd like to take off, so we can ensure proper coverage during your absence.\n",
        "\n",
        "Looking forward to your response.\n",
        "\n",
        "Best regards,\n",
        "[Manager's Name]\n",
        "\"\"\""
      ]
    },
    {
      "cell_type": "code",
      "execution_count": 16,
      "id": "516c5695",
      "metadata": {
        "id": "516c5695"
      },
      "outputs": [],
      "source": [
        "manager_style_pirate = \"\"\"\\\n",
        "a polite tone \\\n",
        "that speaks in French\\\n",
        "\"\"\""
      ]
    },
    {
      "cell_type": "code",
      "execution_count": 17,
      "id": "9befdb87",
      "metadata": {
        "id": "9befdb87"
      },
      "outputs": [],
      "source": [
        "manager_messages = prompt_template.format_messages(\n",
        "    style=manager_style_pirate,\n",
        "    text=manager_reply)"
      ]
    },
    {
      "cell_type": "code",
      "execution_count": 18,
      "id": "fb694b8f",
      "metadata": {
        "id": "fb694b8f"
      },
      "outputs": [],
      "source": [
        "manager_response = llm.invoke(manager_messages)"
      ]
    },
    {
      "cell_type": "code",
      "execution_count": 19,
      "id": "967aede3",
      "metadata": {
        "colab": {
          "base_uri": "https://localhost:8080/",
          "height": 91
        },
        "id": "967aede3",
        "outputId": "d71c07e6-6a87-47cc-fbae-838c41d904b3",
        "scrolled": true
      },
      "outputs": [
        {
          "data": {
            "application/vnd.google.colaboratory.intrinsic+json": {
              "type": "string"
            },
            "text/plain": [
              "\" ``Subject : Réponse à la Demande de congé (Vacances)\\n\\nChère/Cher John,\\n\\nJe vous remercie de m'en toucher relativement à votre demande de congé. Je vous prie de préciser les dates précises que vous avez l'intention de faire l'usage de vos jours fériés, afin que nous puissions assurer une couverture adéquate pendant votre absence.\\n\\nJe me réjouis déjà de recevoir votre réponse.\\n\\nAvec mes meilleurs souhaits,\\n[Nom du manager]``\\n\\n[Translation: Subject: Response to Vacation Leave Request\\n\\nDear John,\\n\\nThank you for contacting me regarding your leave request. I kindly ask you to specify the exact dates you plan on taking off, so we can arrange adequate coverage during your absence.\\n\\nI look forward to your response.\\n\\nBest regards,\\n[Manager's Name]\""
            ]
          },
          "execution_count": 19,
          "metadata": {},
          "output_type": "execute_result"
        }
      ],
      "source": [
        "manager_response.content"
      ]
    },
    {
      "cell_type": "markdown",
      "id": "UOHUsUjvJ_Xm",
      "metadata": {
        "id": "UOHUsUjvJ_Xm"
      },
      "source": [
        "# **Let's Do an Activity**\n",
        "\n",
        "## **Objective**\n",
        "\n",
        "Practice creating and utilizing a prompt template to generate customized prompts for a language model.\n",
        "\n",
        "## **Steps**\n",
        "\n",
        "* Define a Template String\n",
        "* Instantiate a Prompt Template\n",
        "* Prepare Variables\n",
        "* Format Messages\n",
        "* Interact with a Language Model"
      ]
    }
  ],
  "metadata": {
    "colab": {
      "provenance": []
    },
    "kernelspec": {
      "display_name": "Python 3 (ipykernel)",
      "language": "python",
      "name": "python3"
    },
    "language_info": {
      "codemirror_mode": {
        "name": "ipython",
        "version": 3
      },
      "file_extension": ".py",
      "mimetype": "text/x-python",
      "name": "python",
      "nbconvert_exporter": "python",
      "pygments_lexer": "ipython3",
      "version": "3.11.4"
    }
  },
  "nbformat": 4,
  "nbformat_minor": 5
}
