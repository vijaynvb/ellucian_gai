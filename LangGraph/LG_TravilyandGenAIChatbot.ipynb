{
  "cells": [
    {
      "cell_type": "markdown",
      "id": "8c451ffd-a18b-4412-85fa-85186824dd03",
      "metadata": {
        "id": "8c451ffd-a18b-4412-85fa-85186824dd03"
      },
      "source": [
        "# Build a Travily and Invoke Gen AI with Bedrock Chatbot\n",
        "\n",
        "In this tutorial, you handle queries you chatbot can't answer \"from memory\", integrate a web search tool. The chatbot can use this tool to find relevant information and provide better responses."
      ]
    },
    {
      "cell_type": "code",
      "execution_count": 11,
      "id": "x14TTEZFKWgS",
      "metadata": {
        "colab": {
          "base_uri": "https://localhost:8080/"
        },
        "id": "x14TTEZFKWgS",
        "outputId": "6724c335-9085-40fb-f9fe-abca94484822"
      },
      "outputs": [
        {
          "name": "stdout",
          "output_type": "stream",
          "text": [
            "Collecting boto3\n",
            "  Downloading boto3-1.38.46-py3-none-any.whl.metadata (6.6 kB)\n",
            "Collecting botocore<1.39.0,>=1.38.46 (from boto3)\n",
            "  Downloading botocore-1.38.46-py3-none-any.whl.metadata (5.7 kB)\n",
            "Collecting jmespath<2.0.0,>=0.7.1 (from boto3)\n",
            "  Downloading jmespath-1.0.1-py3-none-any.whl.metadata (7.6 kB)\n",
            "Collecting s3transfer<0.14.0,>=0.13.0 (from boto3)\n",
            "  Downloading s3transfer-0.13.0-py3-none-any.whl.metadata (1.7 kB)\n",
            "Requirement already satisfied: python-dateutil<3.0.0,>=2.1 in /usr/local/lib/python3.11/dist-packages (from botocore<1.39.0,>=1.38.46->boto3) (2.9.0.post0)\n",
            "Requirement already satisfied: urllib3!=2.2.0,<3,>=1.25.4 in /usr/local/lib/python3.11/dist-packages (from botocore<1.39.0,>=1.38.46->boto3) (2.4.0)\n",
            "Requirement already satisfied: six>=1.5 in /usr/local/lib/python3.11/dist-packages (from python-dateutil<3.0.0,>=2.1->botocore<1.39.0,>=1.38.46->boto3) (1.17.0)\n",
            "Downloading boto3-1.38.46-py3-none-any.whl (139 kB)\n",
            "\u001b[2K   \u001b[90m━━━━━━━━━━━━━━━━━━━━━━━━━━━━━━━━━━━━━━━━\u001b[0m \u001b[32m139.9/139.9 kB\u001b[0m \u001b[31m5.2 MB/s\u001b[0m eta \u001b[36m0:00:00\u001b[0m\n",
            "\u001b[?25hDownloading botocore-1.38.46-py3-none-any.whl (13.7 MB)\n",
            "\u001b[2K   \u001b[90m━━━━━━━━━━━━━━━━━━━━━━━━━━━━━━━━━━━━━━━━\u001b[0m \u001b[32m13.7/13.7 MB\u001b[0m \u001b[31m112.3 MB/s\u001b[0m eta \u001b[36m0:00:00\u001b[0m\n",
            "\u001b[?25hDownloading jmespath-1.0.1-py3-none-any.whl (20 kB)\n",
            "Downloading s3transfer-0.13.0-py3-none-any.whl (85 kB)\n",
            "\u001b[2K   \u001b[90m━━━━━━━━━━━━━━━━━━━━━━━━━━━━━━━━━━━━━━━━\u001b[0m \u001b[32m85.2/85.2 kB\u001b[0m \u001b[31m5.6 MB/s\u001b[0m eta \u001b[36m0:00:00\u001b[0m\n",
            "\u001b[?25hInstalling collected packages: jmespath, botocore, s3transfer, boto3\n",
            "Successfully installed boto3-1.38.46 botocore-1.38.46 jmespath-1.0.1 s3transfer-0.13.0\n"
          ]
        }
      ],
      "source": [
        "!pip install boto3"
      ]
    },
    {
      "cell_type": "code",
      "execution_count": 1,
      "id": "d2b4b45b-cbaa-41b1-b3ed-f6b0645be3f9",
      "metadata": {
        "id": "d2b4b45b-cbaa-41b1-b3ed-f6b0645be3f9"
      },
      "outputs": [],
      "source": [
        "%%capture --no-stderr\n",
        "%pip install --quiet -U langchain_openai langchain_core langgraph langgraph-prebuilt langchain-tavily\n",
        "# %pip install --quiet -U langchain_aws langchain_core langgraph langgraph-prebuilt langchain-tavily"
      ]
    },
    {
      "cell_type": "code",
      "execution_count": 38,
      "id": "2b0cfa99",
      "metadata": {
        "id": "2b0cfa99"
      },
      "outputs": [],
      "source": [
        "import os\n",
        "from google.colab import userdata\n",
        "os.environ[\"OPENAI_API_KEY\"] = userdata.get('OPENAI_API_KEY')\n",
        "os.environ[\"TAVILY_API_KEY\"] = userdata.get('TAVILY_API_KEY')\n",
        "os.environ[\"AWS_ACCESS_KEY_ID\"] = userdata.get('AWS_ACCESS_KEY_ID')\n",
        "os.environ[\"AWS_SECRET_ACCESS_KEY\"] = userdata.get('AWS_SECRET_ACCESS_KEY')\n",
        "os.environ[\"AWS_DEFAULT_REGION\"] = userdata.get('AWS_DEFAULT_REGION')\n",
        "\n",
        "#import os\n",
        "#from google.colab import userdata\n",
        "# os.environ[\"AWS_ACCESS_KEY_ID\"] = userdata.get('AWS_ACCESS_KEY_ID')\n",
        "# os.environ[\"AWS_SECRET_ACCESS_KEY\"] = userdata.get('AWS_SECRET_ACCESS_KEY')\n",
        "# os.environ[\"AWS_DEFAULT_REGION\"] = userdata.get('AWS_DEFAULT_REGION')\n",
        "# #os.environ[\"TAVILY_API_KEY\"] = userdata.get('TAVILY_API_KEY')"
      ]
    },
    {
      "cell_type": "markdown",
      "id": "02eff247-a2aa-4f7a-8be1-73dfebfecc63",
      "metadata": {
        "id": "02eff247-a2aa-4f7a-8be1-73dfebfecc63"
      },
      "source": [
        "We'll use [LangSmith](https://docs.smith.langchain.com/) for [tracing](https://docs.smith.langchain.com/concepts/tracing)."
      ]
    },
    {
      "cell_type": "code",
      "execution_count": 39,
      "id": "74ef2ff0",
      "metadata": {
        "id": "74ef2ff0"
      },
      "outputs": [],
      "source": [
        "os.environ[\"LANGSMITH_API_KEY\"] = userdata.get('LANGSMITH_API_KEY')\n",
        "os.environ[\"LANGSMITH_ENDPOINT\"]=\"https://api.smith.langchain.com\"\n",
        "os.environ[\"LANGSMITH_TRACING\"] = \"true\"\n",
        "os.environ[\"LANGSMITH_PROJECT\"] = \"tutorial\""
      ]
    },
    {
      "cell_type": "markdown",
      "id": "9c5f123b-db5d-4816-a6a3-2e4247611512",
      "metadata": {
        "id": "9c5f123b-db5d-4816-a6a3-2e4247611512"
      },
      "source": [
        "## Define the tool\n",
        "\n",
        "Define the web search tool:\n",
        "\n",
        "API Reference: [TavilySearch](https://python.langchain.com/api_reference/tavily/tavily_search/langchain_tavily.tavily_search.TavilySearch.html?_gl=1*tlbqc8*_gcl_au*MTk2MDM5MDU2Ny4xNzUwMjQ5NzE2*_ga*MTcwNDU4NTgyMS4xNzUwMjQ5NzE2*_ga_47WX3HKKY2*czE3NTA4NTQ2NjkkbzE0JGcxJHQxNzUwODU2MzgyJGo0MyRsMCRoMA..)"
      ]
    },
    {
      "cell_type": "code",
      "execution_count": 40,
      "id": "46647bbe-def5-4ea7-a315-1de8d97c8288",
      "metadata": {
        "id": "46647bbe-def5-4ea7-a315-1de8d97c8288"
      },
      "outputs": [],
      "source": [
        "from langchain_tavily import TavilySearch\n",
        "\n",
        "search_tool = TavilySearch(max_results=2)"
      ]
    },
    {
      "cell_type": "markdown",
      "id": "g4ssCLODCDed",
      "metadata": {
        "id": "g4ssCLODCDed"
      },
      "source": [
        "# Define the tool use AWS API Gateway endpoint"
      ]
    },
    {
      "cell_type": "code",
      "execution_count": 41,
      "id": "hTVrfFWyCDMy",
      "metadata": {
        "id": "hTVrfFWyCDMy"
      },
      "outputs": [],
      "source": [
        "from langchain_core.tools import tool\n",
        "import requests\n",
        "import json\n",
        "import boto3\n",
        "import time\n",
        "\n",
        "@tool\n",
        "def invoke_genai_api(prompt: str) -> str:\n",
        "    \"\"\"\n",
        "    Calls API Gateway to trigger Step Function and returns GenAI result.\n",
        "    \"\"\"\n",
        "    # API Gateway endpoint\n",
        "    url = \"https://krlrqdwise.execute-api.us-east-1.amazonaws.com/dev/invoke\"\n",
        "    region = \"us-east-1\"\n",
        "    state_machine_arn = \"arn:aws:states:us-east-1:058264295817:stateMachine:InvokeGenAIStateMachine\"\n",
        "\n",
        "    # Prepare payload\n",
        "    headers = {\n",
        "        \"Content-Type\": \"application/json\"\n",
        "    }\n",
        "    payload = {\n",
        "        \"input\": json.dumps({\"prompt\": prompt}),\n",
        "        \"stateMachineArn\": state_machine_arn\n",
        "    }\n",
        "\n",
        "    try:\n",
        "        # Step 1: Start Step Function via API Gateway\n",
        "        response = requests.post(url, headers=headers, data=json.dumps(payload))\n",
        "        response.raise_for_status()\n",
        "        execution_arn = response.json().get(\"executionArn\")\n",
        "\n",
        "        if not execution_arn:\n",
        "            return \"Failed to get executionArn from API Gateway response.\"\n",
        "\n",
        "        print(f\"Execution started. ARN: {execution_arn}\")\n",
        "\n",
        "        # Step 2: Poll Step Functions for result\n",
        "        client = boto3.client('stepfunctions', region_name=region)\n",
        "        while True:\n",
        "            exec_desc = client.describe_execution(executionArn=execution_arn)\n",
        "            status = exec_desc[\"status\"]\n",
        "\n",
        "            if status == \"RUNNING\":\n",
        "                print(\"Waiting for Step Function to complete...\")\n",
        "                time.sleep(2)\n",
        "                continue\n",
        "            elif status == \"SUCCEEDED\":\n",
        "                break\n",
        "            else:\n",
        "                return f\"Execution failed with status: {status}\"\n",
        "\n",
        "        # Step 3: Parse response to extract GenAI result\n",
        "        outer_output = json.loads(exec_desc[\"output\"])\n",
        "        lambda_output = json.loads(outer_output[\"body\"])\n",
        "        return lambda_output\n",
        "\n",
        "    except Exception as e:\n",
        "        return f\"Error during GenAI invocation: {str(e)}\""
      ]
    },
    {
      "cell_type": "code",
      "execution_count": 43,
      "id": "2hvo21-1CZ5U",
      "metadata": {
        "colab": {
          "base_uri": "https://localhost:8080/",
          "height": 164
        },
        "id": "2hvo21-1CZ5U",
        "outputId": "8cd7a54f-b584-49bd-ca57-cfeb7314e16a"
      },
      "outputs": [
        {
          "name": "stdout",
          "output_type": "stream",
          "text": [
            "Execution started. ARN: arn:aws:states:us-east-1:058264295817:execution:InvokeGenAIStateMachine:793c3e21-a71b-44bc-acbb-8e93c6e72e86\n",
            "Waiting for Step Function to complete...\n",
            "Waiting for Step Function to complete...\n",
            "Waiting for Step Function to complete...\n"
          ]
        },
        {
          "data": {
            "application/vnd.google.colaboratory.intrinsic+json": {
              "type": "string"
            },
            "text/plain": [
              "\" LangGraph is not a recognized term in the context of programming, computer science, or graph theory. It seems like it might be a typo or a specific term used in a certain context that I'm not aware of.\\n\\nHowever, if you're referring to a 'node' in the context of graph theory or data structures, a node is a fundamental unit that represents data. It can be a connection point or a vertex in a graph. Each node may contain data and a link to other nodes.\\n\\nIf you're referring to Node.js, it's an open-source, cross-platform, JavaScript runtime environment that executes JavaScript code outside a web browser.\\n\\nIf you meant something else, could you please provide more context or check the term? I'd be happy to help further.\""
            ]
          },
          "execution_count": 43,
          "metadata": {},
          "output_type": "execute_result"
        }
      ],
      "source": [
        "tools = [search_tool ,invoke_genai_api]\n",
        "# search_tool .invoke(\"What's a 'node' in LangGraph?\")\n",
        "invoke_genai_api.invoke(\"What's a 'node' in LangGraph?\")"
      ]
    },
    {
      "cell_type": "markdown",
      "id": "J7QtoDxWL__G",
      "metadata": {
        "id": "J7QtoDxWL__G"
      },
      "source": [
        "## Define the graph\n",
        "\n",
        "For the StateGraph you created in the first tutorial, add bind_tools on the LLM. This lets the LLM know the correct JSON format to use if it wants to use the search engine.\n",
        "\n",
        "> - use claude sonnet 3 model for function calling or model which supports function calling"
      ]
    },
    {
      "cell_type": "code",
      "execution_count": 44,
      "id": "a9092b40-20c4-4872-b0ed-be1b53a15ef3",
      "metadata": {
        "id": "a9092b40-20c4-4872-b0ed-be1b53a15ef3"
      },
      "outputs": [],
      "source": [
        "from langchain_openai import ChatOpenAI\n",
        "\n",
        "llm = ChatOpenAI(model=\"gpt-4o\")\n",
        "\n",
        "\n",
        "#from langchain_aws import ChatBedrock\n",
        "\n",
        "#llm = ChatBedrock(\n",
        "#    model_id=\"claude-3.5-sonnet-update this value from bedrock\",\n",
        "#    temperature=1,\n",
        "#)"
      ]
    },
    {
      "cell_type": "markdown",
      "id": "eCBHufbHMKll",
      "metadata": {
        "id": "eCBHufbHMKll"
      },
      "source": [
        "We can now incorporate it into a StateGraph:"
      ]
    },
    {
      "cell_type": "code",
      "execution_count": 45,
      "id": "771123a3-91ac-4076-92c0-93bcd69cf048",
      "metadata": {
        "colab": {
          "base_uri": "https://localhost:8080/"
        },
        "id": "771123a3-91ac-4076-92c0-93bcd69cf048",
        "outputId": "becbf25f-a15c-4030-bebd-2a5b42051632"
      },
      "outputs": [
        {
          "data": {
            "text/plain": [
              "<langgraph.graph.state.StateGraph at 0x7f8bd0ec0350>"
            ]
          },
          "execution_count": 45,
          "metadata": {},
          "output_type": "execute_result"
        }
      ],
      "source": [
        "from typing import Annotated\n",
        "\n",
        "from typing_extensions import TypedDict\n",
        "\n",
        "from langgraph.graph import StateGraph, START, END\n",
        "from langgraph.graph.message import add_messages\n",
        "\n",
        "class State(TypedDict):\n",
        "    messages: Annotated[list, add_messages]\n",
        "\n",
        "graph_builder = StateGraph(State)\n",
        "\n",
        "# Modification: tell the LLM which tools it can call\n",
        "# highlight-next-line\n",
        "llm_with_tools = llm.bind_tools(tools,parallel_tool_calls=False)\n",
        "\n",
        "def chatbot(state: State):\n",
        "    return {\"messages\": [llm_with_tools.invoke(state[\"messages\"])]}\n",
        "\n",
        "graph_builder.add_node(\"chatbot\", chatbot)"
      ]
    },
    {
      "cell_type": "markdown",
      "id": "4DcCWmUcJfkT",
      "metadata": {
        "id": "4DcCWmUcJfkT"
      },
      "source": [
        "Notice how the chatbot node function takes the current State as input and returns a dictionary containing an updated messages list under the key \"messages\". This is the basic pattern for all LangGraph node functions.\n",
        "\n",
        "The add_messages function in our State will append the LLM's response messages to whatever messages are already in the state."
      ]
    },
    {
      "cell_type": "markdown",
      "id": "IavIrgREJie5",
      "metadata": {
        "id": "IavIrgREJie5"
      },
      "source": [
        "## Create a function to run the tools\n",
        "\n",
        "Now, create a function to run the tools if they are called. Do this by adding the tools to a new node calledBasicToolNode that checks the most recent message in the state and calls tools if the message contains tool_calls. It relies on the LLM's tool_calling support, which is available in Anthropic, OpenAI, Google Gemini, and a number of other LLM providers."
      ]
    },
    {
      "cell_type": "code",
      "execution_count": 46,
      "id": "596a71a0-1337-44d4-971d-f80c367bd868",
      "metadata": {
        "colab": {
          "base_uri": "https://localhost:8080/"
        },
        "id": "596a71a0-1337-44d4-971d-f80c367bd868",
        "outputId": "25629669-7fbf-4ebc-cc9e-dc420f2ded08"
      },
      "outputs": [
        {
          "data": {
            "text/plain": [
              "<langgraph.graph.state.StateGraph at 0x7f8bd0ec0350>"
            ]
          },
          "execution_count": 46,
          "metadata": {},
          "output_type": "execute_result"
        }
      ],
      "source": [
        "import json\n",
        "\n",
        "from langchain_core.messages import ToolMessage\n",
        "\n",
        "\n",
        "class BasicToolNode:\n",
        "    def __init__(self, tools: list) -> None:\n",
        "        self.tools_by_name = {tool.name: tool for tool in tools}\n",
        "\n",
        "    def __call__(self, inputs: dict):\n",
        "        if messages := inputs.get(\"messages\", []):\n",
        "            message = messages[-1]\n",
        "        else:\n",
        "            raise ValueError(\"No message found in input\")\n",
        "\n",
        "        outputs = []\n",
        "        for tool_call in message.tool_calls:\n",
        "            tool_name = tool_call[\"name\"]\n",
        "            print(f\"[INFO] Tool Invoked: {tool_name}\")\n",
        "\n",
        "            if tool_name not in self.tools_by_name:\n",
        "                raise KeyError(f\"Tool '{tool_name}' not found in tools list\")\n",
        "\n",
        "            tool_result = self.tools_by_name[tool_name].invoke(tool_call[\"args\"])\n",
        "            outputs.append(\n",
        "                ToolMessage(\n",
        "                    content=json.dumps(tool_result),\n",
        "                    name=tool_name,\n",
        "                    tool_call_id=tool_call[\"id\"],\n",
        "                )\n",
        "            )\n",
        "        return {\"messages\": outputs}\n",
        "\n",
        "\n",
        "tool_node = BasicToolNode(tools=tools)\n",
        "graph_builder.add_node(\"tools\", tool_node)"
      ]
    },
    {
      "cell_type": "markdown",
      "id": "vM5qUxlsJsw1",
      "metadata": {
        "id": "vM5qUxlsJsw1"
      },
      "source": [
        "## Define the conditional_edges\n",
        "\n",
        "With the tool node added, now you can define the conditional_edges.\n",
        "\n",
        "Edges route the control flow from one node to the next. Conditional edges start from a single node and usually contain \"if\" statements to route to different nodes depending on the current graph state. These functions receive the current graph state and return a string or list of strings indicating which node(s) to call next.\n",
        "\n",
        "Next, define a router function called route_tools that checks for tool_calls in the chatbot's output. Provide this function to the graph by calling add_conditional_edges, which tells the graph that whenever the chatbot node completes to check this function to see where to go next.\n",
        "\n",
        "The condition will route to tools if tool calls are present and END if not. Because the condition can return END, you do not need to explicitly set a finish_point this time."
      ]
    },
    {
      "cell_type": "code",
      "execution_count": 47,
      "id": "b41cc1d7-e6de-4d86-8958-8cf7446f4c22",
      "metadata": {
        "id": "b41cc1d7-e6de-4d86-8958-8cf7446f4c22"
      },
      "outputs": [],
      "source": [
        "def route_tools(\n",
        "    state: State,\n",
        "):\n",
        "    \"\"\"\n",
        "    Use in the conditional_edge to route to the ToolNode if the last message\n",
        "    has tool calls. Otherwise, route to the end.\n",
        "    \"\"\"\n",
        "    if isinstance(state, list):\n",
        "        ai_message = state[-1]\n",
        "    elif messages := state.get(\"messages\", []):\n",
        "        ai_message = messages[-1]\n",
        "    else:\n",
        "        raise ValueError(f\"No messages found in input state to tool_edge: {state}\")\n",
        "    if hasattr(ai_message, \"tool_calls\") and len(ai_message.tool_calls) > 0:\n",
        "        return \"tools\"\n",
        "    return END\n",
        "\n",
        "\n",
        "# The `tools_condition` function returns \"tools\" if the chatbot asks to use a tool, and \"END\" if\n",
        "# it is fine directly responding. This conditional routing defines the main agent loop.\n",
        "graph_builder.add_conditional_edges(\n",
        "    \"chatbot\",\n",
        "    route_tools,\n",
        "    # The following dictionary lets you tell the graph to interpret the condition's outputs as a specific node\n",
        "    # It defaults to the identity function, but if you\n",
        "    # want to use a node named something else apart from \"tools\",\n",
        "    # You can update the value of the dictionary to something else\n",
        "    # e.g., \"tools\": \"my_tools\"\n",
        "    {\"tools\": \"tools\", END: END},\n",
        ")\n",
        "# Any time a tool is called, we return to the chatbot to decide the next step\n",
        "graph_builder.add_edge(\"tools\", \"chatbot\")\n",
        "graph_builder.add_edge(START, \"chatbot\")\n",
        "graph = graph_builder.compile()"
      ]
    },
    {
      "cell_type": "markdown",
      "id": "qWi2Jxb2J2TU",
      "metadata": {
        "id": "qWi2Jxb2J2TU"
      },
      "source": [
        "## Visualize the graph\n",
        "\n",
        "You can visualize the graph using the get_graph method and one of the \"draw\" methods, like draw_ascii or draw_png. The draw methods each require additional dependencies."
      ]
    },
    {
      "cell_type": "code",
      "execution_count": 48,
      "id": "637fcd79-3896-42e4-9131-e03b123a0a90",
      "metadata": {
        "colab": {
          "base_uri": "https://localhost:8080/",
          "height": 266
        },
        "id": "637fcd79-3896-42e4-9131-e03b123a0a90",
        "outputId": "db8b359d-8752-4bdc-fec4-23c54ad3d78b"
      },
      "outputs": [
        {
          "data": {
            "image/png": "[encoded data removed]",
            "text/plain": [
              "<IPython.core.display.Image object>"
            ]
          },
          "metadata": {},
          "output_type": "display_data"
        }
      ],
      "source": [
        "from IPython.display import Image, display\n",
        "\n",
        "try:\n",
        "    display(Image(graph.get_graph().draw_mermaid_png()))\n",
        "except Exception:\n",
        "    # This requires some extra dependencies and is optional\n",
        "    pass"
      ]
    },
    {
      "cell_type": "markdown",
      "id": "L_h80r73J-pt",
      "metadata": {
        "id": "L_h80r73J-pt"
      },
      "source": [
        "## Ask the bot questions\n",
        "\n",
        "Now you can ask the chatbot questions outside its training data:"
      ]
    },
    {
      "cell_type": "code",
      "execution_count": null,
      "id": "f722a1d6-e73c-4023-86ed-8b07d392278d",
      "metadata": {
        "colab": {
          "base_uri": "https://localhost:8080/"
        },
        "id": "f722a1d6-e73c-4023-86ed-8b07d392278d",
        "outputId": "2ab4cf87-e020-4667-9c4e-53fd9c11ca76"
      },
      "outputs": [
        {
          "name": "stdout",
          "output_type": "stream",
          "text": [
            "User: Invoke Gen Api : what is langgraph\n",
            "Assistant: \n",
            "[INFO] Tool Invoked: invoke_genai_api\n",
            "Execution started. ARN: arn:aws:states:us-east-1:058264295817:execution:InvokeGenAIStateMachine:18404589-9478-4c28-ba1d-cfcad3857062\n",
            "Waiting for Step Function to complete...\n",
            "Waiting for Step Function to complete...\n",
            "Assistant: \" Langgraph is not a recognized term or a well-known entity in the fields of technology, linguistics, or academia. It is possible that it may be a typo, or it might refer to a specific project or concept that is not widely known or used.\\n\\nIf you meant \\\"language graph,\\\" it could refer to a graphical representation or visualization of languages and their relationships, such as a language family tree or a network diagram showing the connections between different languages.\\n\\nIf you meant something else, could you please provide more context or information so that I can better understand and provide a helpful response?\"\n",
            "Assistant: Langgraph is not a recognized term or well-known entity in general fields like technology, linguistics, or academia. It could be a typo or refer to a specific project or concept that is not widely recognized.\n",
            "\n",
            "If you meant \"language graph,\" it might refer to a graphical representation or visualization of languages and their relationships, such as language family trees or network diagrams showing connections between languages.\n",
            "\n",
            "If you have a specific context in mind, please provide more details, and I'll be happy to help further!\n",
            "User: get current weather\n",
            "Assistant: I currently cannot provide real-time weather updates. You can check a reliable weather website or app, such as Weather.com or the Weather Channel, for the latest information.\n",
            "User: use search and get current weather\n",
            "Assistant: \n",
            "[INFO] Tool Invoked: tavily_search\n",
            "Assistant: {\"query\": \"current weather\", \"follow_up_questions\": null, \"answer\": null, \"images\": [], \"results\": [{\"title\": \"Weather in current location\", \"url\": \"https://www.weatherapi.com/\", \"content\": \"{'location': {'name': 'Current', 'region': 'Harbour Island', 'country': 'Bahamas', 'lat': 25.4333, 'lon': -76.7833, 'tz_id': 'America/Nassau', 'localtime_epoch': 1751074104, 'localtime': '2025-06-27 21:28'}, 'current': {'last_updated_epoch': 1751073300, 'last_updated': '2025-06-27 21:15', 'temp_c': 27.5, 'temp_f': 81.5, 'is_day': 0, 'condition': {'text': 'Partly Cloudy', 'icon': '//cdn.weatherapi.com/weather/64x64/night/116.png', 'code': 1003}, 'wind_mph': 13.2, 'wind_kph': 21.2, 'wind_degree': 125, 'wind_dir': 'SE', 'pressure_mb': 1021.0, 'pressure_in': 30.16, 'precip_mm': 0.0, 'precip_in': 0.0, 'humidity': 86, 'cloud': 58, 'feelslike_c': 32.1, 'feelslike_f': 89.8, 'windchill_c': 27.5, 'windchill_f': 81.5, 'heatindex_c': 32.1, 'heatindex_f': 89.8, 'dewpoint_c': 24.9, 'dewpoint_f': 76.8, 'vis_km': 10.0, 'vis_miles': 6.0, 'uv': 0.0, 'gust_mph': 18.1, 'gust_kph': 29.1}}\", \"score\": 0.9987205, \"raw_content\": null}, {\"title\": \"United States weather forecast for Saturday, 28 June 2025\", \"url\": \"https://www.weather25.com/north-america/usa?page=date&date=28-6\", \"content\": \"Expected weather in the United States for Saturday, 28 June 2025 , average temperature and weather. See the last few years weather in the United States in June 28.\", \"score\": 0.7548612, \"raw_content\": null}], \"response_time\": 2.05}\n",
            "Assistant: I found a current weather update for Harbour Island, Bahamas:\n",
            "\n",
            "- **Temperature:** 27.5°C (81.5°F)\n",
            "- **Condition:** Partly Cloudy\n",
            "- **Wind:** 13.2 mph (21.2 kph) from the Southeast\n",
            "- **Humidity:** 86%\n",
            "- **Cloud Cover:** 58%\n",
            "- **Visibility:** 10 km (6 miles)\n",
            "- **UV Index:** 0.0 (Night time)\n",
            "- **Feels Like:** 32.1°C (89.8°F)\n",
            "\n",
            "For more detailed weather forecasts, you can visit [WeatherAPI](https://www.weatherapi.com/).\n",
            "User: use search and get current weather of Bengaluru\n",
            "Assistant: \n",
            "[INFO] Tool Invoked: tavily_search\n",
            "Assistant: {\"query\": \"current weather Bengaluru\", \"follow_up_questions\": null, \"answer\": null, \"images\": [], \"results\": [{\"title\": \"Weather in Bengaluru\", \"url\": \"https://www.weatherapi.com/\", \"content\": \"{'location': {'name': 'Bengaluru', 'region': 'Karnataka', 'country': 'India', 'lat': 12.9833, 'lon': 77.5833, 'tz_id': 'Asia/Kolkata', 'localtime_epoch': 1751073557, 'localtime': '2025-06-28 06:49'}, 'current': {'last_updated_epoch': 1751073300, 'last_updated': '2025-06-28 06:45', 'temp_c': 21.1, 'temp_f': 70.0, 'is_day': 1, 'condition': {'text': 'Partly cloudy', 'icon': '//cdn.weatherapi.com/weather/64x64/day/116.png', 'code': 1003}, 'wind_mph': 12.5, 'wind_kph': 20.2, 'wind_degree': 258, 'wind_dir': 'WSW', 'pressure_mb': 1013.0, 'pressure_in': 29.91, 'precip_mm': 0.0, 'precip_in': 0.0, 'humidity': 94, 'cloud': 75, 'feelslike_c': 21.1, 'feelslike_f': 70.0, 'windchill_c': 20.0, 'windchill_f': 68.0, 'heatindex_c': 20.0, 'heatindex_f': 68.0, 'dewpoint_c': 17.3, 'dewpoint_f': 63.2, 'vis_km': 6.0, 'vis_miles': 3.0, 'uv': 0.2, 'gust_mph': 17.5, 'gust_kph': 28.2}}\", \"score\": 0.7972533, \"raw_content\": null}, {\"title\": \"Weather in Bengaluru in June 2025 - Detailed Forecast\", \"url\": \"https://www.easeweather.com/asia/india/bengaluru/june\", \"content\": \"Discover the most accurate weather forecast for Bengaluru in June 2025. Insights into temperature, precipitation, and weather trends.\", \"score\": 0.5911811, \"raw_content\": null}], \"response_time\": 2.21}\n",
            "Assistant: The current weather in Bengaluru is as follows:\n",
            "\n",
            "- Temperature: 21.1°C (70.0°F)\n",
            "- Condition: Partly cloudy\n",
            "- Wind: 12.5 mph (20.2 kph) from the west-southwest\n",
            "- Humidity: 94%\n",
            "- Pressure: 1013.0 mb\n",
            "- Precipitation: 0.0 mm\n",
            "- Visibility: 6 km\n",
            "\n",
            "For more details, you can check the [WeatherAPI website](https://www.weatherapi.com/).\n"
          ]
        }
      ],
      "source": [
        "def stream_graph_updates(user_input: str):\n",
        "    for event in graph.stream({\"messages\": [{\"role\": \"user\", \"content\": user_input}]}):\n",
        "        for value in event.values():\n",
        "            if \"messages\" in value:\n",
        "                if value[\"messages\"]:\n",
        "                    print(\"Assistant:\", value[\"messages\"][-1].content)\n",
        "\n",
        "while True:\n",
        "    try:\n",
        "        user_input = input(\"User: \")\n",
        "        if user_input.lower() in [\"quit\", \"exit\", \"q\"]:\n",
        "            print(\"Goodbye!\")\n",
        "            break\n",
        "\n",
        "        stream_graph_updates(user_input)\n",
        "    except:\n",
        "        # fallback if input() is not available\n",
        "        user_input = \"What do you know about LangGraph?\"\n",
        "        print(\"User: \" + user_input)\n",
        "        stream_graph_updates(user_input)\n",
        "        break"
      ]
    },
    {
      "cell_type": "code",
      "execution_count": null,
      "id": "zxvRmJelB4Lm",
      "metadata": {
        "id": "zxvRmJelB4Lm"
      },
      "outputs": [],
      "source": []
    }
  ],
  "metadata": {
    "colab": {
      "provenance": []
    },
    "kernelspec": {
      "display_name": "Python 3 (ipykernel)",
      "language": "python",
      "name": "python3"
    },
    "language_info": {
      "codemirror_mode": {
        "name": "ipython",
        "version": 3
      },
      "file_extension": ".py",
      "mimetype": "text/x-python",
      "name": "python",
      "nbconvert_exporter": "python",
      "pygments_lexer": "ipython3",
      "version": "3.12.1"
    }
  },
  "nbformat": 4,
  "nbformat_minor": 5
}
